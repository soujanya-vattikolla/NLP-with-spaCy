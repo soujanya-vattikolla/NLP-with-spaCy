{
  "cells": [
    {
      "cell_type": "markdown",
      "metadata": {
        "id": "view-in-github",
        "colab_type": "text"
      },
      "source": [
        "<a href=\"https://colab.research.google.com/github/soujanya-vattikolla/NLP-with-spaCy/blob/main/UsingSpaCyMatcher.ipynb\" target=\"_parent\"><img src=\"https://colab.research.google.com/assets/colab-badge.svg\" alt=\"Open In Colab\"/></a>"
      ]
    },
    {
      "cell_type": "code",
      "execution_count": null,
      "metadata": {
        "id": "dQ4OtHyWNF5p"
      },
      "outputs": [],
      "source": [
        "# Import the requisite library\n",
        "import spacy"
      ]
    },
    {
      "cell_type": "code",
      "execution_count": null,
      "metadata": {
        "id": "K3c6pga0NF5z"
      },
      "outputs": [],
      "source": [
        "from spacy.matcher import Matcher"
      ]
    },
    {
      "cell_type": "markdown",
      "metadata": {
        "id": "ok-ji4D8NF50"
      },
      "source": [
        "#### Basic Example"
      ]
    },
    {
      "cell_type": "code",
      "execution_count": null,
      "metadata": {
        "id": "aXpB6p1wNF54"
      },
      "outputs": [],
      "source": [
        "#Build upon the spaCy Small Model\n",
        "nlp = spacy.load(\"en_core_web_sm\")"
      ]
    },
    {
      "cell_type": "code",
      "execution_count": null,
      "metadata": {
        "id": "pOfn7NN0NF56"
      },
      "outputs": [],
      "source": [
        "matcher = Matcher(nlp.vocab)\n",
        "pattern = [{\"LIKE_EMAIL\": True}]\n",
        "matcher.add(\"EMAIL_ADDRESS\", [pattern])"
      ]
    },
    {
      "cell_type": "code",
      "execution_count": null,
      "metadata": {
        "id": "bFJNA5VANF58"
      },
      "outputs": [],
      "source": [
        "doc = nlp(\"This is an email address: wmattingly@aol.com\")\n",
        "matches = matcher(doc)"
      ]
    },
    {
      "cell_type": "code",
      "execution_count": null,
      "metadata": {
        "id": "dUJ5SFB2NF5-",
        "outputId": "d6622f7d-dbb9-4593-b351-e3a625cea204"
      },
      "outputs": [
        {
          "name": "stdout",
          "output_type": "stream",
          "text": [
            "[(16571425990740197027, 6, 7)]\n"
          ]
        }
      ],
      "source": [
        "print(matches)"
      ]
    },
    {
      "cell_type": "markdown",
      "metadata": {
        "id": "RG_QUUk4NF6C"
      },
      "source": [
        "(16571425990740197027) it is Lexeme, 6 is start token, 7 is end token"
      ]
    },
    {
      "cell_type": "code",
      "execution_count": null,
      "metadata": {
        "id": "RTTPLrP-NF6D",
        "outputId": "086147d1-fa4d-4b10-9971-7aea35ef5c70"
      },
      "outputs": [
        {
          "name": "stdout",
          "output_type": "stream",
          "text": [
            "EMAIL_ADDRESS\n"
          ]
        }
      ],
      "source": [
        "print (nlp.vocab[matches[0][0]].text)"
      ]
    },
    {
      "cell_type": "markdown",
      "metadata": {
        "id": "COkaIMJ7NF6F"
      },
      "source": [
        "Attributes Taken by Matcher\n",
        "\n",
        "ORTH - The exact verbatim of a token (str)\n",
        "\n",
        "TEXT - The exact verbatim of a token (str)\n",
        "\n",
        "LOWER - The lowercase form of the token text (str)\n",
        "\n",
        "LENGTH - The length of the token text (int)"
      ]
    },
    {
      "cell_type": "code",
      "execution_count": null,
      "metadata": {
        "id": "Dx0K7fRCNF6H"
      },
      "outputs": [],
      "source": [
        "# example2:\n",
        "with open (\"wiki_story.txt\", \"r\") as f:\n",
        "    text = f.read()"
      ]
    },
    {
      "cell_type": "code",
      "execution_count": null,
      "metadata": {
        "id": "3vm-L5jhNF6I",
        "outputId": "6997dc20-ec03-473f-e6c2-32484ba75cbc"
      },
      "outputs": [
        {
          "name": "stdout",
          "output_type": "stream",
          "text": [
            "Martin Luther King Jr. (born Michael King Jr.; January 15, 1929 â€“ April 4, 1968) was an American Baptist minister and activist who became the most visible spokesman and leader in the American civil rights movement from 1955 until his assassination in 1968. King advanced civil rights through nonviolence and civil disobedience, inspired by his Christian beliefs and the nonviolent activism of Mahatma Gandhi. He was the son of early civil rights activist and minister Martin Luther King Sr.\n",
            "\n",
            "King participated in and led marches for blacks' right to vote, desegregation, labor rights, and other basic civil rights.[1] King led the 1955 Montgomery bus boycott and later became the first president of the Southern Christian Leadership Conference (SCLC). As president of the SCLC, he led the unsuccessful Albany Movement in Albany, Georgia, and helped organize some of the nonviolent 1963 protests in Birmingham, Alabama. King helped organize the 1963 March on Washington, where he delivered his famous \"I Have a Dream\" speech on the steps of the Lincoln Memorial.\n",
            "\n",
            "The SCLC put into practice the tactics of nonviolent protest with some success by strategically choosing the methods and places in which protests were carried out. There were several dramatic stand-offs with segregationist authorities, who sometimes turned violent.[2] Federal Bureau of Investigation (FBI) Director J. Edgar Hoover considered King a radical and made him an object of the FBI's COINTELPRO from 1963, forward. FBI agents investigated him for possible communist ties, recorded his extramarital affairs and reported on them to government officials, and, in 1964, mailed King a threatening anonymous letter, which he interpreted as an attempt to make him commit suicide.[3]\n",
            "\n",
            "On October 14, 1964, King won the Nobel Peace Prize for combating racial inequality through nonviolent resistance. In 1965, he helped organize two of the three Selma to Montgomery marches. In his final years, he expanded his focus to include opposition towards poverty, capitalism, and the Vietnam War.\n",
            "\n",
            "In 1968, King was planning a national occupation of Washington, D.C., to be called the Poor People's Campaign, when he was assassinated on April 4 in Memphis, Tennessee. His death was followed by riots in many U.S. cities. Allegations that James Earl Ray, the man convicted of killing King, had been framed or acted in concert with government agents persisted for decades after the shooting. King was posthumously awarded the Presidential Medal of Freedom in 1977 and the Congressional Gold Medal in 2003. Martin Luther King Jr. Day was established as a holiday in cities and states throughout the United States beginning in 1971; the holiday was enacted at the federal level by legislation signed by President Ronald Reagan in 1986. Hundreds of streets in the U.S. have been renamed in his honor, and the most populous county in Washington State was rededicated for him. The Martin Luther King Jr. Memorial on the National Mall in Washington, D.C., was dedicated in 2011.\n"
          ]
        }
      ],
      "source": [
        "print(text)"
      ]
    },
    {
      "cell_type": "code",
      "execution_count": null,
      "metadata": {
        "id": "Ts-mTMVANF6J"
      },
      "outputs": [],
      "source": [
        "#Build upon the spaCy Small Model\n",
        "nlp_story = spacy.load(\"en_core_web_sm\")"
      ]
    },
    {
      "cell_type": "code",
      "execution_count": null,
      "metadata": {
        "id": "jgDNR6ccNF6K"
      },
      "outputs": [],
      "source": [
        "matcher_story = Matcher(nlp_story.vocab)\n",
        "pattern_story = [{\"POS\": \"PROPN\"}]\n",
        "matcher_story.add(\"PROPER_NOUN\", [pattern_story])"
      ]
    },
    {
      "cell_type": "code",
      "execution_count": null,
      "metadata": {
        "id": "yEGggpn5NF6L"
      },
      "outputs": [],
      "source": [
        "doc_story = nlp_story(text)\n",
        "matches = matcher_story(doc_story)"
      ]
    },
    {
      "cell_type": "code",
      "execution_count": null,
      "metadata": {
        "id": "VP8OpIG3NF6M",
        "outputId": "75e4a9fe-b482-44ad-9b67-00141259f59e"
      },
      "outputs": [
        {
          "name": "stdout",
          "output_type": "stream",
          "text": [
            "102\n"
          ]
        }
      ],
      "source": [
        "print(len(matches))"
      ]
    },
    {
      "cell_type": "code",
      "execution_count": null,
      "metadata": {
        "id": "i2bijhM_NF6N",
        "outputId": "145cbc79-63ca-4b83-b21f-38f138935915"
      },
      "outputs": [
        {
          "name": "stdout",
          "output_type": "stream",
          "text": [
            "(451313080118390996, 0, 1) Martin\n",
            "(451313080118390996, 1, 2) Luther\n",
            "(451313080118390996, 2, 3) King\n",
            "(451313080118390996, 3, 4) Jr.\n",
            "(451313080118390996, 6, 7) Michael\n",
            "(451313080118390996, 7, 8) King\n",
            "(451313080118390996, 8, 9) Jr.\n",
            "(451313080118390996, 10, 11) January\n",
            "(451313080118390996, 14, 15) â€\n",
            "(451313080118390996, 16, 17) April\n"
          ]
        }
      ],
      "source": [
        "for match_story in matches[:10]:\n",
        "    print (match_story, doc_story[match_story[1]:match_story[2]])"
      ]
    },
    {
      "cell_type": "markdown",
      "metadata": {
        "id": "65Dyj5aONF6O"
      },
      "source": [
        "### Improving it with Multi-Word Tokens"
      ]
    },
    {
      "cell_type": "code",
      "execution_count": null,
      "metadata": {
        "id": "TXzRFfazNF6P",
        "outputId": "4c777232-233f-4ca9-9427-c1a1dfcfdc42"
      },
      "outputs": [
        {
          "name": "stdout",
          "output_type": "stream",
          "text": [
            "175\n",
            "(451313080118390996, 0, 1) Martin\n",
            "(451313080118390996, 0, 2) Martin Luther\n",
            "(451313080118390996, 1, 2) Luther\n",
            "(451313080118390996, 0, 3) Martin Luther King\n",
            "(451313080118390996, 1, 3) Luther King\n",
            "(451313080118390996, 2, 3) King\n",
            "(451313080118390996, 0, 4) Martin Luther King Jr.\n",
            "(451313080118390996, 1, 4) Luther King Jr.\n",
            "(451313080118390996, 2, 4) King Jr.\n",
            "(451313080118390996, 3, 4) Jr.\n"
          ]
        }
      ],
      "source": [
        "matcher_story = Matcher(nlp_story.vocab)\n",
        "pattern_story = [{\"POS\": \"PROPN\",\"OP\":\"+\"}]\n",
        "matcher_story.add(\"PROPER_NOUN\", [pattern_story])\n",
        "doc_story = nlp_story(text)\n",
        "matches = matcher_story(doc_story)\n",
        "print(len(matches))\n",
        "for match_story in matches[:10]:\n",
        "    print (match_story, doc_story[match_story[1]:match_story[2]])"
      ]
    },
    {
      "cell_type": "markdown",
      "metadata": {
        "id": "uIkFKsLaNF6Q"
      },
      "source": [
        "Here we are getting the proper nouns that are matched one or more times."
      ]
    },
    {
      "cell_type": "markdown",
      "metadata": {
        "id": "Ri3mXINiNF6T"
      },
      "source": [
        "### Greedy Keyword Argument"
      ]
    },
    {
      "cell_type": "code",
      "execution_count": null,
      "metadata": {
        "id": "juRCn5UdNF6T",
        "outputId": "620a8550-c581-4fa0-82a5-b2395d76ebe4"
      },
      "outputs": [
        {
          "name": "stdout",
          "output_type": "stream",
          "text": [
            "61\n",
            "(451313080118390996, 84, 89) Martin Luther King Sr.\n",
            "(451313080118390996, 470, 475) Martin Luther King Jr. Day\n",
            "(451313080118390996, 537, 542) Martin Luther King Jr. Memorial\n",
            "(451313080118390996, 0, 4) Martin Luther King Jr.\n",
            "(451313080118390996, 129, 133) Southern Christian Leadership Conference\n",
            "(451313080118390996, 248, 252) Director J. Edgar Hoover\n",
            "(451313080118390996, 6, 9) Michael King Jr.\n",
            "(451313080118390996, 326, 329) Nobel Peace Prize\n",
            "(451313080118390996, 423, 426) James Earl Ray\n",
            "(451313080118390996, 464, 467) Congressional Gold Medal\n"
          ]
        }
      ],
      "source": [
        "matcher_story = Matcher(nlp_story.vocab)\n",
        "pattern_story = [{\"POS\": \"PROPN\",\"OP\":\"+\"}]\n",
        "matcher_story.add(\"PROPER_NOUN\", [pattern_story],greedy=\"LONGEST\")\n",
        "doc_story = nlp_story(text)\n",
        "matches = matcher_story(doc_story)\n",
        "print(len(matches))\n",
        "for match_story in matches[:10]:\n",
        "    print (match_story, doc_story[match_story[1]:match_story[2]])"
      ]
    },
    {
      "cell_type": "markdown",
      "metadata": {
        "id": "xcGRRt-wNF6U"
      },
      "source": [
        "The longest proper nouns are displayed."
      ]
    },
    {
      "cell_type": "markdown",
      "metadata": {
        "id": "p8oxQTZaNF6V"
      },
      "source": [
        "### Sorting it to Apperance"
      ]
    },
    {
      "cell_type": "code",
      "execution_count": null,
      "metadata": {
        "id": "tGtUuinxNF6W",
        "outputId": "f784690f-36a4-41d5-dd77-9c3c5d632932"
      },
      "outputs": [
        {
          "name": "stdout",
          "output_type": "stream",
          "text": [
            "61\n",
            "(451313080118390996, 0, 4) Martin Luther King Jr.\n",
            "(451313080118390996, 6, 9) Michael King Jr.\n",
            "(451313080118390996, 10, 11) January\n",
            "(451313080118390996, 14, 15) â€\n",
            "(451313080118390996, 16, 17) April\n",
            "(451313080118390996, 24, 25) Baptist\n",
            "(451313080118390996, 50, 51) King\n",
            "(451313080118390996, 70, 72) Mahatma Gandhi\n",
            "(451313080118390996, 84, 89) Martin Luther King Sr.\n",
            "(451313080118390996, 90, 91) King\n"
          ]
        }
      ],
      "source": [
        "matcher_story = Matcher(nlp_story.vocab)\n",
        "pattern_story = [{\"POS\": \"PROPN\",\"OP\":\"+\"}]\n",
        "matcher_story.add(\"PROPER_NOUN\", [pattern_story],greedy=\"LONGEST\")\n",
        "doc_story = nlp_story(text)\n",
        "matches = matcher_story(doc_story)\n",
        "matches.sort(key = lambda x: x[1])   # sort by start token\n",
        "print(len(matches))\n",
        "for match_story in matches[:10]:\n",
        "    print (match_story, doc_story[match_story[1]:match_story[2]])"
      ]
    },
    {
      "cell_type": "markdown",
      "metadata": {
        "id": "S85DesCsNF6W"
      },
      "source": [
        "### Adding in Sequences"
      ]
    },
    {
      "cell_type": "code",
      "execution_count": null,
      "metadata": {
        "id": "M1TdrMg5NF6X",
        "outputId": "1abb1040-408c-4a51-d6fc-c77e23462650"
      },
      "outputs": [
        {
          "name": "stdout",
          "output_type": "stream",
          "text": [
            "7\n",
            "(451313080118390996, 50, 52) King advanced\n",
            "(451313080118390996, 90, 92) King participated\n",
            "(451313080118390996, 114, 116) King led\n",
            "(451313080118390996, 168, 170) King helped\n",
            "(451313080118390996, 248, 253) Director J. Edgar Hoover considered\n",
            "(451313080118390996, 323, 325) King won\n",
            "(451313080118390996, 486, 489) United States beginning\n"
          ]
        }
      ],
      "source": [
        "matcher_story = Matcher(nlp_story.vocab)\n",
        "pattern_story = [{\"POS\": \"PROPN\",\"OP\":\"+\"}, {\"POS\": \"VERB\"}]\n",
        "matcher_story.add(\"PROPER_NOUN\", [pattern_story],greedy=\"LONGEST\")\n",
        "doc_story = nlp_story(text)\n",
        "matches = matcher_story(doc_story)\n",
        "matches.sort(key = lambda x: x[1])   # sort by start token\n",
        "print(len(matches))\n",
        "for match_story in matches[:10]:\n",
        "    print (match_story, doc_story[match_story[1]:match_story[2]])"
      ]
    },
    {
      "cell_type": "markdown",
      "metadata": {
        "id": "EZ12xEGQNF6Y"
      },
      "source": [
        "Here the first one is proper noun and second one is verb."
      ]
    },
    {
      "cell_type": "markdown",
      "metadata": {
        "id": "Qf4YV1TWNF6a"
      },
      "source": [
        "### Finding Quotes and Speakers"
      ]
    },
    {
      "cell_type": "code",
      "execution_count": null,
      "metadata": {
        "id": "eN7JWMLfNF6a"
      },
      "outputs": [],
      "source": [
        "# Example3:\n",
        "import json\n",
        "with open (\"alice.json\", \"r\") as f:\n",
        "    data = json.load(f)"
      ]
    },
    {
      "cell_type": "code",
      "execution_count": null,
      "metadata": {
        "id": "eUL1jbrANF6b",
        "outputId": "ddb626dc-b90e-4180-e074-aaa69c042a81"
      },
      "outputs": [
        {
          "name": "stdout",
          "output_type": "stream",
          "text": [
            "Alice was beginning to get very tired of sitting by her sister on the bank, and of having nothing to do: once or twice she had peeped into the book her sister was reading, but it had no pictures or conversations in it, `and what is the use of a book,' thought Alice `without pictures or conversation?'\n"
          ]
        }
      ],
      "source": [
        "text = data[0][2][0]\n",
        "print (text)"
      ]
    },
    {
      "cell_type": "code",
      "execution_count": null,
      "metadata": {
        "id": "uL-Je2FmNF6c",
        "outputId": "9719d1af-73f8-4c86-b71f-349640e384cc"
      },
      "outputs": [
        {
          "name": "stdout",
          "output_type": "stream",
          "text": [
            "Alice was beginning to get very tired of sitting by her sister on the bank, and of having nothing to do: once or twice she had peeped into the book her sister was reading, but it had no pictures or conversations in it, 'and what is the use of a book,' thought Alice 'without pictures or conversation?'\n"
          ]
        }
      ],
      "source": [
        "text = text.replace(\"`\",\"'\")\n",
        "print(text)"
      ]
    },
    {
      "cell_type": "code",
      "execution_count": null,
      "metadata": {
        "id": "nI8QzRmxNF6d",
        "outputId": "6a947a39-26a4-412a-fbde-87819f75b547"
      },
      "outputs": [
        {
          "name": "stdout",
          "output_type": "stream",
          "text": [
            "2\n",
            "(3232560085755078826, 47, 58) 'and what is the use of a book,'\n",
            "(3232560085755078826, 60, 67) 'without pictures or conversation?'\n"
          ]
        }
      ],
      "source": [
        "matcher = Matcher(nlp.vocab)\n",
        "pattern = [{'ORTH': \"'\"}, \n",
        "           {'IS_ALPHA': True, \"OP\": \"+\"}, \n",
        "           {'IS_PUNCT': True, \"OP\": \"*\"}, \n",
        "           {'ORTH': \"'\"}]\n",
        "matcher.add(\"PROPER_NOUNS\", [pattern], greedy='LONGEST')\n",
        "doc = nlp(text)\n",
        "matches = matcher(doc)\n",
        "matches.sort(key = lambda x: x[1])\n",
        "print (len(matches))\n",
        "for match in matches[:10]:\n",
        "    print (match, doc[match[1]:match[2]])"
      ]
    },
    {
      "cell_type": "markdown",
      "metadata": {
        "id": "VIIhSufRNF6d"
      },
      "source": [
        "### Find Speaker"
      ]
    },
    {
      "cell_type": "code",
      "execution_count": null,
      "metadata": {
        "id": "yghIKUqPNF6e",
        "outputId": "8fa1eead-cff5-4b6e-8db5-ad9bb55134b6"
      },
      "outputs": [
        {
          "name": "stdout",
          "output_type": "stream",
          "text": [
            "1\n",
            "(3232560085755078826, 47, 67) 'and what is the use of a book,' thought Alice 'without pictures or conversation?'\n"
          ]
        }
      ],
      "source": [
        "speak_lemmas = [\"think\",\"say\"]\n",
        "matcher = Matcher(nlp.vocab)\n",
        "pattern = [{'ORTH': \"'\"}, \n",
        "           {'IS_ALPHA': True, \"OP\": \"+\"}, \n",
        "           {'IS_PUNCT': True, \"OP\": \"*\"}, \n",
        "           {'ORTH': \"'\"},\n",
        "           {'POS':\"VERB\", \"LEMMA\": {\"IN\": speak_lemmas}},\n",
        "           {'POS':'PROPN', \"OP\": \"+\"},\n",
        "           {'ORTH': \"'\"}, \n",
        "           {'IS_ALPHA': True, \"OP\": \"+\"}, \n",
        "           {'IS_PUNCT': True, \"OP\": \"*\"}, \n",
        "           {'ORTH': \"'\"}]\n",
        "matcher.add(\"PROPER_NOUNS\", [pattern], greedy='LONGEST')\n",
        "doc = nlp(text)\n",
        "matches = matcher(doc)\n",
        "matches.sort(key = lambda x: x[1])\n",
        "print (len(matches))\n",
        "for match in matches[:10]:\n",
        "    print (match, doc[match[1]:match[2]])"
      ]
    },
    {
      "cell_type": "code",
      "execution_count": null,
      "metadata": {
        "id": "93qDwQ0XNF6e",
        "outputId": "49412220-25f1-4cbb-b1bf-372fe3e4a92e"
      },
      "outputs": [
        {
          "name": "stdout",
          "output_type": "stream",
          "text": [
            "1\n",
            "(3232560085755078826, 47, 67) 'and what is the use of a book,' thought Alice 'without pictures or conversation?'\n",
            "0\n",
            "0\n",
            "0\n",
            "0\n",
            "0\n",
            "0\n",
            "0\n",
            "0\n",
            "0\n",
            "0\n",
            "0\n",
            "0\n",
            "0\n",
            "0\n",
            "0\n",
            "0\n"
          ]
        }
      ],
      "source": [
        "for text in data[0][2]:\n",
        "    text = text.replace(\"`\", \"'\")\n",
        "    doc = nlp(text)\n",
        "    matches = matcher(doc)\n",
        "    matches.sort(key = lambda x: x[1])\n",
        "    print (len(matches))\n",
        "    for match in matches[:10]:\n",
        "        print (match, doc[match[1]:match[2]])"
      ]
    },
    {
      "cell_type": "markdown",
      "metadata": {
        "id": "C38aPo5oNF6f"
      },
      "source": [
        "Here we are not getting all the sentences with quotation marks, we got only one sentence."
      ]
    },
    {
      "cell_type": "markdown",
      "metadata": {
        "id": "6f9pJKi0NF6g"
      },
      "source": [
        "### Adding More Patterns"
      ]
    },
    {
      "cell_type": "code",
      "execution_count": null,
      "metadata": {
        "id": "qcBz4E1RNF6h",
        "outputId": "1d5a2c75-0832-41e5-882a-efadb8842db9"
      },
      "outputs": [
        {
          "name": "stdout",
          "output_type": "stream",
          "text": [
            "1\n",
            "(3232560085755078826, 47, 67) 'and what is the use of a book,' thought Alice 'without pictures or conversation?'\n",
            "0\n",
            "0\n",
            "0\n",
            "0\n",
            "0\n",
            "1\n",
            "(3232560085755078826, 0, 6) 'Well!' thought Alice\n",
            "0\n",
            "0\n",
            "0\n",
            "0\n",
            "0\n",
            "0\n",
            "0\n",
            "1\n",
            "(3232560085755078826, 57, 68) 'which certainly was not here before,' said Alice\n",
            "0\n",
            "0\n"
          ]
        }
      ],
      "source": [
        "speak_lemmas = [\"think\", \"say\"]\n",
        "text = data[0][2][0].replace( \"`\", \"'\")\n",
        "matcher = Matcher(nlp.vocab)\n",
        "pattern1 = [{'ORTH': \"'\"}, {'IS_ALPHA': True, \"OP\": \"+\"}, {'IS_PUNCT': True, \"OP\": \"*\"}, {'ORTH': \"'\"}, {\"POS\": \"VERB\", \"LEMMA\": {\"IN\": speak_lemmas}}, {\"POS\": \"PROPN\", \"OP\": \"+\"}, {'ORTH': \"'\"}, {'IS_ALPHA': True, \"OP\": \"+\"}, {'IS_PUNCT': True, \"OP\": \"*\"}, {'ORTH': \"'\"}]\n",
        "pattern2 = [{'ORTH': \"'\"}, {'IS_ALPHA': True, \"OP\": \"+\"}, {'IS_PUNCT': True, \"OP\": \"*\"}, {'ORTH': \"'\"}, {\"POS\": \"VERB\", \"LEMMA\": {\"IN\": speak_lemmas}}, {\"POS\": \"PROPN\", \"OP\": \"+\"}]\n",
        "pattern3 = [{\"POS\": \"PROPN\", \"OP\": \"+\"},{\"POS\": \"VERB\", \"LEMMA\": {\"IN\": speak_lemmas}}, {'ORTH': \"'\"}, {'IS_ALPHA': True, \"OP\": \"+\"}, {'IS_PUNCT': True, \"OP\": \"*\"}, {'ORTH': \"'\"}]\n",
        "matcher.add(\"PROPER_NOUNS\", [pattern1, pattern2, pattern3], greedy='LONGEST')\n",
        "for text in data[0][2]:\n",
        "    text = text.replace(\"`\", \"'\")\n",
        "    doc = nlp(text)\n",
        "    matches = matcher(doc)\n",
        "    matches.sort(key = lambda x: x[1])\n",
        "    print (len(matches))\n",
        "    for match in matches[:10]:\n",
        "        print (match, doc[match[1]:match[2]])"
      ]
    },
    {
      "cell_type": "markdown",
      "metadata": {
        "id": "dOvbzr-TNF6i"
      },
      "source": [
        "Here we are getting all the sentences with quotation marks."
      ]
    },
    {
      "cell_type": "code",
      "execution_count": null,
      "metadata": {
        "id": "D8ZwtEM2NF6i"
      },
      "outputs": [],
      "source": [
        ""
      ]
    }
  ],
  "metadata": {
    "kernelspec": {
      "display_name": "Python 3",
      "language": "python",
      "name": "python3"
    },
    "language_info": {
      "codemirror_mode": {
        "name": "ipython",
        "version": 3
      },
      "file_extension": ".py",
      "mimetype": "text/x-python",
      "name": "python",
      "nbconvert_exporter": "python",
      "pygments_lexer": "ipython3",
      "version": "3.8.8"
    },
    "colab": {
      "name": "Using SpaCy Matcher.ipynb",
      "provenance": [],
      "include_colab_link": true
    }
  },
  "nbformat": 4,
  "nbformat_minor": 0
}