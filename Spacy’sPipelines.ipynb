{
  "cells": [
    {
      "cell_type": "markdown",
      "metadata": {
        "id": "view-in-github",
        "colab_type": "text"
      },
      "source": [
        "<a href=\"https://colab.research.google.com/github/soujanya-vattikolla/NLP-with-spaCy/blob/main/Spacy%E2%80%99sPipelines.ipynb\" target=\"_parent\"><img src=\"https://colab.research.google.com/assets/colab-badge.svg\" alt=\"Open In Colab\"/></a>"
      ]
    },
    {
      "cell_type": "markdown",
      "metadata": {
        "id": "AS3bpue_Mvvz"
      },
      "source": [
        "### Attribute Rulers"
      ]
    },
    {
      "cell_type": "markdown",
      "metadata": {
        "id": "9EIjxBLtMvv_"
      },
      "source": [
        "1. Dependency Parser\n",
        "\n",
        "2. EntityLinker\n",
        "\n",
        "3. EntityRecognizer\n",
        "\n",
        "4. EntityRuler\n",
        "\n",
        "5. Lemmatizer\n",
        "\n",
        "6. Morpholog\n",
        "\n",
        "7. SentenceRecognizer\n",
        "\n",
        "8. Sentencizer\n",
        "\n",
        "9. SpanCategorizer\n",
        "\n",
        "10. Tagger\n",
        "\n",
        "11. TextCategorizer\n",
        "\n",
        "12. Tok2Vec\n",
        "\n",
        "13. Tokenizer\n",
        "\n",
        "14. TrainablePipe\n",
        "\n",
        "15. Transformer"
      ]
    },
    {
      "cell_type": "markdown",
      "metadata": {
        "id": "8b02EfnJMvwB"
      },
      "source": [
        "### How to Add Pipes"
      ]
    },
    {
      "cell_type": "code",
      "execution_count": null,
      "metadata": {
        "id": "9mCeiFkFMvwC"
      },
      "outputs": [],
      "source": [
        "import spacy"
      ]
    },
    {
      "cell_type": "code",
      "execution_count": null,
      "metadata": {
        "id": "VbGtl6U6MvwE"
      },
      "outputs": [],
      "source": [
        "# let’s first create a blank model.\n",
        "nlp = spacy.blank(\"en\")"
      ]
    },
    {
      "cell_type": "code",
      "execution_count": null,
      "metadata": {
        "id": "fxRRIDE3MvwF",
        "outputId": "24235a80-1e40-4055-88b0-b948fb7d1d43"
      },
      "outputs": [
        {
          "data": {
            "text/plain": [
              "<spacy.pipeline.sentencizer.Sentencizer at 0x27722e50200>"
            ]
          },
          "execution_count": 4,
          "metadata": {},
          "output_type": "execute_result"
        }
      ],
      "source": [
        "# let’s use the add_pipe() command to add a new pipe to it. We will simply add a sentencizer.\n",
        "nlp.add_pipe(\"sentencizer\")"
      ]
    },
    {
      "cell_type": "markdown",
      "metadata": {
        "id": "t3QXDHnWMvwK"
      },
      "source": [
        "### Examining a Pipeline"
      ]
    },
    {
      "cell_type": "code",
      "execution_count": null,
      "metadata": {
        "id": "M6wt6SX2MvwM",
        "outputId": "3d1e8295-39cc-41cd-fb09-fcc407b5c599"
      },
      "outputs": [
        {
          "data": {
            "text/plain": [
              "{'summary': {'sentencizer': {'assigns': ['token.is_sent_start', 'doc.sents'],\n",
              "   'requires': [],\n",
              "   'scores': ['sents_f', 'sents_p', 'sents_r'],\n",
              "   'retokenizes': False}},\n",
              " 'problems': {'sentencizer': []},\n",
              " 'attrs': {'token.is_sent_start': {'assigns': ['sentencizer'], 'requires': []},\n",
              "  'doc.sents': {'assigns': ['sentencizer'], 'requires': []}}}"
            ]
          },
          "execution_count": 11,
          "metadata": {},
          "output_type": "execute_result"
        }
      ],
      "source": [
        "nlp.analyze_pipes()"
      ]
    },
    {
      "cell_type": "markdown",
      "metadata": {
        "id": "YAXmQb-vMvwO"
      },
      "source": [
        "Note the dictionary structure. This tells us not only what is inside the pipeline, but its order. \n",
        "Each key after “summary” is a pipe. The value is a dictionary."
      ]
    },
    {
      "cell_type": "code",
      "execution_count": null,
      "metadata": {
        "id": "0v09Vq1fMvwQ"
      },
      "outputs": [],
      "source": [
        ""
      ]
    }
  ],
  "metadata": {
    "kernelspec": {
      "display_name": "Python 3",
      "language": "python",
      "name": "python3"
    },
    "language_info": {
      "codemirror_mode": {
        "name": "ipython",
        "version": 3
      },
      "file_extension": ".py",
      "mimetype": "text/x-python",
      "name": "python",
      "nbconvert_exporter": "python",
      "pygments_lexer": "ipython3",
      "version": "3.8.8"
    },
    "colab": {
      "name": "Spacy’s Pipelines.ipynb",
      "provenance": [],
      "include_colab_link": true
    }
  },
  "nbformat": 4,
  "nbformat_minor": 0
}