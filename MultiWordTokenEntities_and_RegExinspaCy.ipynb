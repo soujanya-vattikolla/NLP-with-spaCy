{
  "cells": [
    {
      "cell_type": "markdown",
      "metadata": {
        "id": "view-in-github",
        "colab_type": "text"
      },
      "source": [
        "<a href=\"https://colab.research.google.com/github/soujanya-vattikolla/NLP-with-spaCy/blob/main/MultiWordTokenEntities_and_RegExinspaCy.ipynb\" target=\"_parent\"><img src=\"https://colab.research.google.com/assets/colab-badge.svg\" alt=\"Open In Colab\"/></a>"
      ]
    },
    {
      "cell_type": "code",
      "execution_count": null,
      "metadata": {
        "id": "LbH2AJMLNlku"
      },
      "outputs": [],
      "source": [
        "import re"
      ]
    },
    {
      "cell_type": "code",
      "execution_count": null,
      "metadata": {
        "id": "q1OKtuZwNlk4"
      },
      "outputs": [],
      "source": [
        "text = \"Paul Newman was an American actor, but Paul Hollywood is a British TV Host. The name Paul is quite common.\""
      ]
    },
    {
      "cell_type": "code",
      "execution_count": null,
      "metadata": {
        "id": "rs_h6XCfNlk7"
      },
      "outputs": [],
      "source": [
        "pattern = r\"Paul [A-Z]\\w+\""
      ]
    },
    {
      "cell_type": "code",
      "execution_count": null,
      "metadata": {
        "id": "3nEmIqm5Nlk8",
        "outputId": "d8d13641-ce3b-44b0-d394-5bd1036762c3"
      },
      "outputs": [
        {
          "name": "stdout",
          "output_type": "stream",
          "text": [
            "<re.Match object; span=(0, 11), match='Paul Newman'>\n",
            "<re.Match object; span=(39, 53), match='Paul Hollywood'>\n"
          ]
        }
      ],
      "source": [
        "matches = re.finditer(pattern, text)\n",
        "for match in matches:\n",
        "    print (match)"
      ]
    },
    {
      "cell_type": "code",
      "execution_count": null,
      "metadata": {
        "id": "-bEFYao8Nlk_"
      },
      "outputs": [],
      "source": [
        "import spacy\n",
        "from spacy.tokens import Span"
      ]
    },
    {
      "cell_type": "code",
      "execution_count": null,
      "metadata": {
        "id": "zqbLXBaDNllA",
        "outputId": "b3dc9a54-d829-4e3b-a6e0-c6b899f3dd74"
      },
      "outputs": [
        {
          "name": "stdout",
          "output_type": "stream",
          "text": [
            "Before doc.ents: ()\n",
            "span values: Paul Newman\n",
            "span values: Paul Hollywood\n",
            "After doc.ents: (Paul Newman, Paul Hollywood)\n",
            "text:Paul Newman and label:PERSON \n",
            "text:Paul Hollywood and label:PERSON \n"
          ]
        }
      ],
      "source": [
        "nlp = spacy.blank(\"en\")\n",
        "doc = nlp(text)\n",
        "print (\"Before doc.ents:\", doc.ents)\n",
        "original_ents = list(doc.ents)\n",
        "multiwordtoken_ents = []      # multitokenentity\n",
        "for match in re.finditer(pattern, doc.text):   \n",
        "    start, end = match.span()\n",
        "    span = doc.char_span(start, end)\n",
        "    print(\"span values:\", span)\n",
        "    if span is not None:\n",
        "        multiwordtoken_ents.append((span.start, span.end, span.text))  # appending the start, end and text to multiwordtoken\n",
        "for ent in multiwordtoken_ents:\n",
        "    start, end, name = ent\n",
        "    per_ent = Span(doc, start, end, label=\"PERSON\")\n",
        "    original_ents.append(per_ent)\n",
        "doc.ents = original_ents\n",
        "print(\"After doc.ents:\",doc.ents)\n",
        "for ent in doc.ents:\n",
        "    print (\"text:{} and label:{} \".format(ent.text , ent.label_))"
      ]
    },
    {
      "cell_type": "code",
      "execution_count": null,
      "metadata": {
        "id": "4knYUOF2NllD"
      },
      "outputs": [],
      "source": [
        "from spacy.language import Language\n",
        "\n",
        "@Language.component(\"paul_ner\")\n",
        "def paul_ner(doc):\n",
        "    pattern = r\"Paul [A-Z]\\w+\"\n",
        "    original_ents = list(doc.ents)\n",
        "    multiwordtoken_ents = []      # multitokenentity\n",
        "    for match in re.finditer(pattern, doc.text):   \n",
        "        start, end = match.span()\n",
        "        span = doc.char_span(start, end)\n",
        "        print(\"span values:\", span)\n",
        "        if span is not None:\n",
        "            multiwordtoken_ents.append((span.start, span.end, span.text))  # appending the start, end and text to multiwordtoken\n",
        "    for ent in multiwordtoken_ents:\n",
        "        start, end, name = ent\n",
        "        per_ent = Span(doc, start, end, label=\"PERSON\")\n",
        "        original_ents.append(per_ent)\n",
        "    doc.ents = original_ents\n",
        "    return (doc)"
      ]
    },
    {
      "cell_type": "code",
      "execution_count": null,
      "metadata": {
        "id": "gzXwImZrNllG",
        "outputId": "41a0c7b3-c8db-42dc-8d36-b02a69618d43"
      },
      "outputs": [
        {
          "data": {
            "text/plain": [
              "<function __main__.paul_ner(doc)>"
            ]
          },
          "execution_count": 37,
          "metadata": {},
          "output_type": "execute_result"
        }
      ],
      "source": [
        "nlp_ner = spacy.blank(\"en\")\n",
        "nlp_ner.add_pipe(\"paul_ner\")"
      ]
    },
    {
      "cell_type": "code",
      "execution_count": null,
      "metadata": {
        "id": "QIGHNH0eNllI",
        "outputId": "ada125e4-2f15-4150-a53c-6f23eba2d74c"
      },
      "outputs": [
        {
          "name": "stdout",
          "output_type": "stream",
          "text": [
            "span values: Paul Newman\n",
            "span values: Paul Hollywood\n",
            "(Paul Newman, Paul Hollywood)\n"
          ]
        }
      ],
      "source": [
        "doc_ner = nlp_ner(text)\n",
        "print (doc_ner.ents)"
      ]
    },
    {
      "cell_type": "markdown",
      "metadata": {
        "id": "2sAmaCebNllJ"
      },
      "source": [
        "### Using filter_spans"
      ]
    },
    {
      "cell_type": "code",
      "execution_count": null,
      "metadata": {
        "id": "YFl4x7NiNllV"
      },
      "outputs": [],
      "source": [
        "from spacy.language import Language\n",
        "from spacy.util import filter_spans\n",
        "@Language.component(\"cinema_ner\")\n",
        "def cinema_ner(doc):\n",
        "    pattern = r\"Hollywood\"\n",
        "    original_ents = list(doc.ents)\n",
        "    mwt_ents = []\n",
        "    for match in re.finditer(pattern, doc.text):\n",
        "        start, end = match.span()\n",
        "        span = doc.char_span(start, end)\n",
        "        if span is not None:\n",
        "            mwt_ents.append((span.start, span.end, span.text))\n",
        "    for ent in mwt_ents:\n",
        "        start, end, name = ent\n",
        "        per_ent = Span(doc, start, end, label=\"CINEMA\")\n",
        "        original_ents.append(per_ent)\n",
        "    filtered = filter_spans(original_ents) # helps in filter out the all the spans identified\n",
        "    doc.ents = filtered\n",
        "    return (doc)"
      ]
    },
    {
      "cell_type": "code",
      "execution_count": null,
      "metadata": {
        "id": "fA_X4haZNllY",
        "outputId": "45851911-c12c-4e55-e2ed-43ed9d5817fb"
      },
      "outputs": [
        {
          "data": {
            "text/plain": [
              "<function __main__.cinema_ner(doc)>"
            ]
          },
          "execution_count": 40,
          "metadata": {},
          "output_type": "execute_result"
        }
      ],
      "source": [
        "nlp_filter = spacy.load(\"en_core_web_sm\")\n",
        "nlp_filter.add_pipe(\"cinema_ner\")"
      ]
    },
    {
      "cell_type": "code",
      "execution_count": null,
      "metadata": {
        "id": "stQp1dxoNlla",
        "outputId": "1f474b0b-f705-4623-b778-37d2f7b92684"
      },
      "outputs": [
        {
          "name": "stdout",
          "output_type": "stream",
          "text": [
            "Paul Newman PERSON\n",
            "American NORP\n",
            "Paul Hollywood PERSON\n",
            "British NORP\n",
            "Paul PERSON\n"
          ]
        }
      ],
      "source": [
        "doc_filter = nlp_filter(text)\n",
        "for ent_filter in doc_filter.ents:\n",
        "    print (ent_filter.text, ent_filter.label_)"
      ]
    },
    {
      "cell_type": "code",
      "execution_count": null,
      "metadata": {
        "id": "zyObcZuDNlld"
      },
      "outputs": [],
      "source": [
        ""
      ]
    }
  ],
  "metadata": {
    "kernelspec": {
      "display_name": "Python 3",
      "language": "python",
      "name": "python3"
    },
    "language_info": {
      "codemirror_mode": {
        "name": "ipython",
        "version": 3
      },
      "file_extension": ".py",
      "mimetype": "text/x-python",
      "name": "python",
      "nbconvert_exporter": "python",
      "pygments_lexer": "ipython3",
      "version": "3.8.8"
    },
    "colab": {
      "name": "Multi-Word Token Entities and RegEx in spaCy.ipynb",
      "provenance": [],
      "include_colab_link": true
    }
  },
  "nbformat": 4,
  "nbformat_minor": 0
}