{
  "cells": [
    {
      "cell_type": "markdown",
      "metadata": {
        "id": "view-in-github",
        "colab_type": "text"
      },
      "source": [
        "<a href=\"https://colab.research.google.com/github/soujanya-vattikolla/NLP-with-spaCy/blob/main/UsingRegExwithspaCy.ipynb\" target=\"_parent\"><img src=\"https://colab.research.google.com/assets/colab-badge.svg\" alt=\"Open In Colab\"/></a>"
      ]
    },
    {
      "cell_type": "markdown",
      "metadata": {
        "id": "4NzWGAckNa5Y"
      },
      "source": [
        "What is RegEX?\n",
        "\n",
        "Regular Expressions are used to perform finding and retrieving patterns or replacing matching patterns in a string with some other pattern. "
      ]
    },
    {
      "cell_type": "code",
      "execution_count": null,
      "metadata": {
        "id": "aSUkRItuNa5i"
      },
      "outputs": [],
      "source": [
        "import re"
      ]
    },
    {
      "cell_type": "code",
      "execution_count": null,
      "metadata": {
        "id": "_9eKNgv5Na5m",
        "outputId": "c6d9aaa5-f14a-4045-bf80-dfbe35bd91f0"
      },
      "outputs": [
        {
          "name": "stdout",
          "output_type": "stream",
          "text": [
            "[('2 February', '2', 'February'), ('14 August', '4', 'August')]\n"
          ]
        }
      ],
      "source": [
        "# example in regex:\n",
        "# find an occurrence of a date in a text\n",
        "\n",
        "pattern = r\"((\\d){1,2} (January|February|March|April|May|June|July|August|September|October|November|December))\"\n",
        "\n",
        "text = \"This is a date 2 February. Another date would be 14 August.\"\n",
        "matches = re.findall(pattern, text)\n",
        "print (matches)"
      ]
    },
    {
      "cell_type": "code",
      "execution_count": null,
      "metadata": {
        "id": "WRm2Wn2pNa5p"
      },
      "outputs": [],
      "source": [
        "# Use RegEx in spaCy\n",
        "# Import the requisite library\n",
        "\n",
        "import spacy\n",
        "\n",
        "#Sample text\n",
        "text = \"This is a sample number (555) 555-5555.\"\n",
        "\n",
        "#Build upon the spaCy Small Model\n",
        "nlp = spacy.blank(\"en\")\n",
        "\n",
        "#Create the Ruler and Add it\n",
        "ruler = nlp.add_pipe(\"entity_ruler\")\n",
        "\n",
        "#List of Entities and Patterns \n",
        "patterns = [\n",
        "                {\n",
        "                    \"label\": \"PHONE_NUMBER\", \"pattern\": [{\"TEXT\": {\"REGEX\": \"((\\d){3}-(\\d){4})\"}}\n",
        "                                                        ]\n",
        "                }\n",
        "            ]\n",
        "#add patterns to ruler\n",
        "ruler.add_patterns(patterns)\n",
        "\n",
        "#create the doc\n",
        "doc = nlp(text)\n",
        "\n",
        "#extract entities\n",
        "for ent in doc.ents:\n",
        "    print (ent.text, ent.label_)"
      ]
    },
    {
      "cell_type": "markdown",
      "metadata": {
        "id": "ihD9jL10Na5q"
      },
      "source": [
        "SpaCy’s EntityRuler cannot use RegEx to pattern match across tokens. The dash in the phone number throws off the EntityRuler."
      ]
    },
    {
      "cell_type": "code",
      "execution_count": null,
      "metadata": {
        "id": "m4uT8WRhNa5r",
        "outputId": "d7c68c93-4988-47bc-e818-f97ea5621444"
      },
      "outputs": [
        {
          "name": "stdout",
          "output_type": "stream",
          "text": [
            "5555555 PHONE_NUMBER\n"
          ]
        }
      ],
      "source": [
        "#Import the requisite library\n",
        "import spacy\n",
        "\n",
        "#Sample text\n",
        "text = \"This is a sample number 5555555.\"\n",
        "\n",
        "#Build upon the spaCy Small Model\n",
        "nlp = spacy.blank(\"en\")\n",
        "\n",
        "#Create the Ruler and Add it\n",
        "ruler = nlp.add_pipe(\"entity_ruler\")\n",
        "\n",
        "#List of Entities and Patterns \n",
        "patterns = [\n",
        "                {\n",
        "                    \"label\": \"PHONE_NUMBER\", \"pattern\": [{\"TEXT\": {\"REGEX\": \"((\\d){5})\"}}\n",
        "                                                        ]\n",
        "                }\n",
        "            ]\n",
        "#add patterns to ruler\n",
        "ruler.add_patterns(patterns)\n",
        "\n",
        "#create the doc\n",
        "doc = nlp(text)\n",
        "\n",
        "#extract entities\n",
        "for ent in doc.ents:\n",
        "    print (ent.text, ent.label_)"
      ]
    },
    {
      "cell_type": "markdown",
      "metadata": {
        "id": "gkI6PI8QNa5s"
      },
      "source": [
        "Without the dash and a few modifications to RegEx, able to capture 5555555 \n",
        "because this is a single token in the spaCy doc object. "
      ]
    },
    {
      "cell_type": "code",
      "execution_count": null,
      "metadata": {
        "id": "fyTiT-0iNa5u"
      },
      "outputs": [],
      "source": [
        ""
      ]
    }
  ],
  "metadata": {
    "kernelspec": {
      "display_name": "Python 3",
      "language": "python",
      "name": "python3"
    },
    "language_info": {
      "codemirror_mode": {
        "name": "ipython",
        "version": 3
      },
      "file_extension": ".py",
      "mimetype": "text/x-python",
      "name": "python",
      "nbconvert_exporter": "python",
      "pygments_lexer": "ipython3",
      "version": "3.8.8"
    },
    "colab": {
      "name": "Using RegEx with spaCy.ipynb",
      "provenance": [],
      "include_colab_link": true
    }
  },
  "nbformat": 4,
  "nbformat_minor": 0
}